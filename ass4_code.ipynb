{
 "cells": [
  {
   "cell_type": "code",
   "execution_count": 1,
   "id": "9349beda",
   "metadata": {},
   "outputs": [],
   "source": [
    "from tkinter import *\n",
    "import numpy as np\n",
    "root = Tk()"
   ]
  },
  {
   "cell_type": "code",
   "execution_count": 2,
   "id": "04e1551c",
   "metadata": {},
   "outputs": [],
   "source": [
    "# colors\n",
    "color_palette = [\"red\", \"green\", \"blue\", \"cyan\", \"yellow\", \"magenta\", \"black\"]\n",
    "color_index = 0\n",
    "\n",
    "# point lists\n",
    "points = []\n",
    "\n",
    "# current set\n",
    "current_set = 1\n",
    "\n",
    "# define canvas\n",
    "canvas = Canvas(root, width=350, height=350)\n",
    "\n",
    "# global\n",
    "e1, K = 0, 0\n",
    "\n",
    "# centroids\n",
    "centroidX, centroidY = [], []"
   ]
  },
  {
   "cell_type": "code",
   "execution_count": 3,
   "id": "a2d3388a",
   "metadata": {},
   "outputs": [],
   "source": [
    "def callback2(event):\n",
    "    \n",
    "    global color_index, color_palette, current_set, K, centroidX, centroidY\n",
    "    current_color = color_palette[color_index]\n",
    "\n",
    "    # make points\n",
    "    x, y = event.x, event.y\n",
    "    x1, y1 = (x - 4), (y - 4)\n",
    "    x2, y2 = (x + 4), (y + 4)\n",
    "    canvas.create_oval(x1, y1, x2, y2, fill='black')\n",
    "    \n",
    "    minD = float(\"inf\")\n",
    "    for i in range(K):\n",
    "        \n",
    "        canvas.create_line(centroidX[i],centroidY[i],x,y, fill=\"yellow\", width=2)\n",
    "        \n",
    "        if (((centroidX[i]-x)**2 + (centroidY[i]-y)**2)**0.5) < minD:\n",
    "            minD = ((centroidX[i]-x)**2 + (centroidY[i]-y)**2)**0.5\n",
    "            canvas.create_oval(x1, y1, x2, y2, fill='black')\n",
    "    "
   ]
  },
  {
   "cell_type": "code",
   "execution_count": 4,
   "id": "f1633c8d",
   "metadata": {},
   "outputs": [],
   "source": [
    "from sklearn.cluster import KMeans\n",
    "import matplotlib.pyplot as plt\n",
    "\n",
    "def K_Means():\n",
    "    global e1, points, centroidX, centroidY, K, color_palette\n",
    "    points = np.array(points)\n",
    "    K = int(e1.get())\n",
    "    \n",
    "    \n",
    "#     wcss = []\n",
    "#     for i in range(1, 11):\n",
    "#         kmeans = KMeans(n_clusters = i, init = 'k-means++', random_state = 42)\n",
    "#         kmeans.fit(points)\n",
    "#         wcss.append(kmeans.inertia_)\n",
    "#     plt.plot(range(1, 11), wcss)\n",
    "#     plt.title('The Elbow Method')\n",
    "#     plt.xlabel('Number of clusters')\n",
    "#     plt.ylabel('WCSS')\n",
    "#     plt.show()\n",
    "    \n",
    "    kmeans = KMeans(n_clusters = K, init = 'k-means++', random_state = 42)\n",
    "    y_kmeans = kmeans.fit_predict(points)\n",
    "\n",
    "    centroidX = kmeans.cluster_centers_[:, 0]\n",
    "    centroidY = kmeans.cluster_centers_[:, 1]\n",
    "    \n",
    "    for i in range(K):\n",
    "         # make points\n",
    "        x1, y1 = (centroidX[i] - 8), (centroidY[i] - 8)\n",
    "        x2, y2 = (centroidX[i] + 8), (centroidY[i] + 8)\n",
    "        canvas.create_oval(x1, y1, x2, y2, fill='yellow')\n",
    "    \n",
    "    points = []\n",
    "    canvas.bind(\"<Button-1>\", callback2)\n",
    "    print(centroidX, centroidY)\n",
    "    \n",
    "    \n",
    "        "
   ]
  },
  {
   "cell_type": "code",
   "execution_count": 5,
   "id": "1bcdef7a",
   "metadata": {},
   "outputs": [],
   "source": [
    "def key(event):\n",
    "    print(\"pressed\", repr(event.char))"
   ]
  },
  {
   "cell_type": "code",
   "execution_count": 6,
   "id": "1c1e7ab7",
   "metadata": {},
   "outputs": [],
   "source": [
    "def callback(event):\n",
    "    \n",
    "    global color_index, color_palette, current_set\n",
    "    current_color = color_palette[color_index]\n",
    "\n",
    "    # make points\n",
    "    x1, y1 = (event.x - 4), (event.y - 4)\n",
    "    x2, y2 = (event.x + 4), (event.y + 4)\n",
    "\n",
    "    # store them into dictionary\n",
    "    global points\n",
    "    points.append([event.x, event.y])\n",
    "    canvas.create_oval(x1, y1, x2, y2, fill=current_color)"
   ]
  },
  {
   "cell_type": "code",
   "execution_count": 7,
   "id": "d558f837",
   "metadata": {},
   "outputs": [],
   "source": [
    "def nextFunc():\n",
    "    global color_index, current_set\n",
    "    color_index += 1\n",
    "\n",
    "    current_set += 1"
   ]
  },
  {
   "cell_type": "code",
   "execution_count": 8,
   "id": "b58c748d",
   "metadata": {},
   "outputs": [],
   "source": [
    "def endFunc():\n",
    "    global e1\n",
    "    e1 = Entry(root)\n",
    "    canvas.create_window(200, 12, window=e1)\n",
    "    button1 = Button(text='Enter K: ', command=K_Means)\n",
    "    canvas.create_window(100, 12, window=button1)"
   ]
  },
  {
   "cell_type": "code",
   "execution_count": 9,
   "id": "8f5ab09f",
   "metadata": {},
   "outputs": [
    {
     "name": "stdout",
     "output_type": "stream",
     "text": [
      "[ 31.29032258 283.06521739 288.          37.80392157 153.95238095\n",
      " 146.57142857] [176.67741935  27.97826087 177.22222222  49.15686275 109.76190476\n",
      " 277.57142857]\n"
     ]
    }
   ],
   "source": [
    "b1 = Button(root, text=\"Next\", command=nextFunc)\n",
    "b1.place(x=0, y=0)\n",
    "b2 = Button(root, text=\"End\", command=endFunc)\n",
    "b2.place(x=35, y=0)\n",
    "canvas.bind(\"<Key>\", key)\n",
    "canvas.bind(\"<Button-1>\", callback)\n",
    "canvas.pack()\n",
    "root.mainloop()"
   ]
  }
 ],
 "metadata": {
  "kernelspec": {
   "display_name": "Python 3 (ipykernel)",
   "language": "python",
   "name": "python3"
  },
  "language_info": {
   "codemirror_mode": {
    "name": "ipython",
    "version": 3
   },
   "file_extension": ".py",
   "mimetype": "text/x-python",
   "name": "python",
   "nbconvert_exporter": "python",
   "pygments_lexer": "ipython3",
   "version": "3.9.5"
  }
 },
 "nbformat": 4,
 "nbformat_minor": 5
}
